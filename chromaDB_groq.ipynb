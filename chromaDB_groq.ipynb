{
 "cells": [
  {
   "cell_type": "code",
   "id": "initial_id",
   "metadata": {
    "collapsed": true,
    "ExecuteTime": {
     "end_time": "2024-08-28T13:51:52.598787Z",
     "start_time": "2024-08-28T13:51:52.590648Z"
    }
   },
   "source": [
    "from langchain_core.prompts import ChatPromptTemplate\n",
    "from langchain_groq import ChatGroq\n",
    "from langchain_community.document_loaders import TextLoader\n",
    "from langchain.text_splitter import RecursiveCharacterTextSplitter\n",
    "from langchain_community.vectorstores import Chroma\n",
    "from langchain_community.embeddings import HuggingFaceEmbeddings"
   ],
   "outputs": [],
   "execution_count": 10
  },
  {
   "metadata": {
    "ExecuteTime": {
     "end_time": "2024-08-29T06:52:09.912108Z",
     "start_time": "2024-08-29T06:52:09.898674Z"
    }
   },
   "cell_type": "code",
   "source": [
    "from KEY import GROQ_API_KEY\n",
    "API_KEY = GROQ_API_KEY\n",
    "\n",
    "chat = ChatGroq(\n",
    "    temperature=0,\n",
    "    max_tokens=7999,\n",
    "    model=\"llama-3.1-70b-versatile\",\n",
    "    api_key=API_KEY \n",
    ")\n",
    "\n",
    "system = \"You are a helpful assistant. Provide direct and concise responses without additional commentary.\"\n",
    "human = \"{text}\"\n",
    "prompt = ChatPromptTemplate.from_messages([(\"system\", system), (\"human\", human)])\n",
    "\n",
    "chain = prompt | chat\n",
    "print(chain)"
   ],
   "id": "5672a8e2e658e390",
   "outputs": [
    {
     "name": "stdout",
     "output_type": "stream",
     "text": [
      "first=ChatPromptTemplate(input_variables=['text'], messages=[SystemMessagePromptTemplate(prompt=PromptTemplate(input_variables=[], template='You are a helpful assistant. Provide direct and concise responses without additional commentary.')), HumanMessagePromptTemplate(prompt=PromptTemplate(input_variables=['text'], template='{text}'))]) last=ChatGroq(client=<groq.resources.chat.completions.Completions object at 0x7fc058911490>, async_client=<groq.resources.chat.completions.AsyncCompletions object at 0x7fc05891dad0>, model_name='llama-3.1-70b-versatile', temperature=1e-08, groq_api_key=SecretStr('**********'), max_tokens=7999)\n"
     ]
    }
   ],
   "execution_count": 21
  },
  {
   "metadata": {
    "ExecuteTime": {
     "end_time": "2024-08-28T13:52:17.416994Z",
     "start_time": "2024-08-28T13:52:17.405463Z"
    }
   },
   "cell_type": "code",
   "source": [
    "# # Загрузка и обработка документа\n",
    "# loader = TextLoader('manual_optics.txt', encoding='utf-8')\n",
    "# document = loader.load()\n",
    "# \n",
    "# # Разделение документа на части\n",
    "# spliter = RecursiveCharacterTextSplitter(chunk_size=400, chunk_overlap=30)\n",
    "# chunks = spliter.split_documents(document)"
   ],
   "id": "aa3a3fbb6480fec7",
   "outputs": [],
   "execution_count": 12
  },
  {
   "metadata": {
    "ExecuteTime": {
     "end_time": "2024-08-28T13:52:35.768506Z",
     "start_time": "2024-08-28T13:52:27.108754Z"
    }
   },
   "cell_type": "code",
   "source": [
    "# # Создание векторного хранилища и поисковика на основе HuggingFaceEmbeddings\n",
    "# embedding_model = HuggingFaceEmbeddings(model_name=\"sentence-transformers/multi-qa-mpnet-base-dot-v1\")\n",
    "# vector_storage = Chroma.from_documents(chunks, embedding_model, persist_directory=\"./embeddings\")\n",
    "# retriever = vector_storage.as_retriever()"
   ],
   "id": "7a941749d9f9cabe",
   "outputs": [
    {
     "name": "stderr",
     "output_type": "stream",
     "text": [
      "/home/user/Desktop/OBJECT_DETECT_AND_LLM/Lama3-LangChain-RAG/venv/lib/python3.11/site-packages/huggingface_hub/file_download.py:1132: FutureWarning: `resume_download` is deprecated and will be removed in version 1.0.0. Downloads always resume when possible. If you want to force a new download, use `force_download=True`.\n",
      "  warnings.warn(\n"
     ]
    }
   ],
   "execution_count": 13
  },
  {
   "metadata": {
    "ExecuteTime": {
     "end_time": "2024-08-28T13:53:56.287173Z",
     "start_time": "2024-08-28T13:53:54.296514Z"
    }
   },
   "cell_type": "code",
   "source": [
    "# Загрузка модели эмбеддингов\n",
    "embedding_model = HuggingFaceEmbeddings(model_name=\"sentence-transformers/multi-qa-mpnet-base-dot-v1\")"
   ],
   "id": "8786b5bc62827be7",
   "outputs": [
    {
     "name": "stderr",
     "output_type": "stream",
     "text": [
      "/home/user/Desktop/OBJECT_DETECT_AND_LLM/Lama3-LangChain-RAG/venv/lib/python3.11/site-packages/huggingface_hub/file_download.py:1132: FutureWarning: `resume_download` is deprecated and will be removed in version 1.0.0. Downloads always resume when possible. If you want to force a new download, use `force_download=True`.\n",
      "  warnings.warn(\n"
     ]
    }
   ],
   "execution_count": 15
  },
  {
   "metadata": {
    "ExecuteTime": {
     "end_time": "2024-08-28T13:53:59.860888Z",
     "start_time": "2024-08-28T13:53:59.853944Z"
    }
   },
   "cell_type": "code",
   "source": [
    "# Определение пути к директории для сохранения векторного хранилища\n",
    "persist_directory = \"./embeddings\"\n",
    "\n",
    "# Загрузка существующего векторного хранилища\n",
    "vector_storage = Chroma(persist_directory=persist_directory, embedding_function=embedding_model)\n",
    "retriever = vector_storage.as_retriever()\n"
   ],
   "id": "1f53cbb320dc51c",
   "outputs": [],
   "execution_count": 16
  },
  {
   "metadata": {
    "ExecuteTime": {
     "end_time": "2024-08-28T13:55:18.490599Z",
     "start_time": "2024-08-28T13:55:17.641405Z"
    }
   },
   "cell_type": "code",
   "source": [
    "# Пример запроса\n",
    "query = \"How do you switch between Day and Night Mode on the ATN X-Sight 5?\"\n",
    "\n",
    "# Поиск соответствующих документов\n",
    "retrieved_docs = retriever.invoke(query)\n",
    "# Формирование текста запроса для модели\n",
    "retrieved_texts = [doc.page_content for doc in retrieved_docs]\n",
    "input_text = \" \".join(retrieved_texts)\n",
    "\n",
    "# Использование модели для получения ответа\n",
    "response = chain.invoke({\"text\": input_text})\n",
    "\n",
    "print(response.content)\n",
    "print(\"!!!!!!!!!!\", retrieved_docs, \"!!!!!!!!!\")\n",
    "# print(\"!!!!!!!!!!!!!!!\", retrieved_texts, \"!!!!!!!!!!!!!!\")\n",
    "# print(\"!!!!\", input_text, \"!!!!!!\")"
   ],
   "id": "3aa017022c26f932",
   "outputs": [
    {
     "name": "stdout",
     "output_type": "stream",
     "text": [
      "To switch between Day and Night Mode, choose NIGHT MODE in Shortcuts and click the OK button to access the Carousel.\n",
      "!!!!!!!!!! [Document(metadata={'source': 'manual_optics.txt'}, page_content='Functions\\nNight Mode\\nNIGHT MODE\\nTo switch between Day and Night Mode, choose NIGHT MODE in Shortcuts.\\nThe shortcuts allow you quick access to the Carousel that contains your scope’s features. Just click the OK button to access the Carousel.'), Document(metadata={'source': 'manual_optics.txt'}, page_content='Functions\\nNight Mode\\nNIGHT MODE\\nTo switch between Day and Night Mode, choose NIGHT MODE in Shortcuts.\\nThe shortcuts allow you quick access to the Carousel that contains your scope’s features. Just click the OK button to access the Carousel.'), Document(metadata={'source': 'manual_optics.txt'}, page_content='Functions\\nNight Mode\\nNIGHT MODE\\nTo switch between Day and Night Mode, choose NIGHT MODE in Shortcuts.\\nThe shortcuts allow you quick access to the Carousel that contains your scope’s features. Just click the OK button to access the Carousel.'), Document(metadata={'source': 'manual_optics.txt'}, page_content='Functions\\nNight Mode\\nNIGHT MODE\\nTo switch between Day and Night Mode, choose NIGHT MODE in Shortcuts.\\nThe shortcuts allow you quick access to the Carousel that contains your scope’s features. Just click the OK button to access the Carousel.')] !!!!!!!!!\n"
     ]
    }
   ],
   "execution_count": 19
  },
  {
   "metadata": {},
   "cell_type": "code",
   "outputs": [],
   "execution_count": null,
   "source": "",
   "id": "4a3489b2798f32a3"
  }
 ],
 "metadata": {
  "kernelspec": {
   "display_name": "Python 3",
   "language": "python",
   "name": "python3"
  },
  "language_info": {
   "codemirror_mode": {
    "name": "ipython",
    "version": 2
   },
   "file_extension": ".py",
   "mimetype": "text/x-python",
   "name": "python",
   "nbconvert_exporter": "python",
   "pygments_lexer": "ipython2",
   "version": "2.7.6"
  }
 },
 "nbformat": 4,
 "nbformat_minor": 5
}
