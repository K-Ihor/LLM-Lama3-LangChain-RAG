{
 "cells": [
  {
   "metadata": {
    "ExecuteTime": {
     "end_time": "2024-05-30T13:10:43.461817Z",
     "start_time": "2024-05-30T13:10:43.456503Z"
    }
   },
   "cell_type": "code",
   "source": [
    "from langchain_community.llms import Ollama\n",
    "from langchain.prompts import PromptTemplate\n",
    "from langchain_core.output_parsers import StrOutputParser\n",
    "from langchain.text_splitter import RecursiveCharacterTextSplitter\n",
    "from langchain_community.document_loaders import TextLoader\n",
    "from langchain_community.embeddings import HuggingFaceEmbeddings\n",
    "from langchain_community.vectorstores import FAISS\n",
    "from langchain_core.runnables import RunnablePassthrough, RunnableParallel\n"
   ],
   "id": "3a1d90b8c4e14710",
   "outputs": [],
   "execution_count": 9
  },
  {
   "metadata": {
    "ExecuteTime": {
     "end_time": "2024-05-30T13:10:43.470998Z",
     "start_time": "2024-05-30T13:10:43.468906Z"
    }
   },
   "cell_type": "code",
   "source": [
    "# Загрузка модели Llama\n",
    "ollama_llm = Ollama(model='llama3')"
   ],
   "id": "d405fd58345bcfbf",
   "outputs": [],
   "execution_count": 10
  },
  {
   "metadata": {
    "ExecuteTime": {
     "end_time": "2024-05-30T13:10:43.485837Z",
     "start_time": "2024-05-30T13:10:43.483525Z"
    }
   },
   "cell_type": "code",
   "source": [
    "# Инициализация объектов\n",
    "parser = StrOutputParser()\n",
    "# Создание цепочки обработки данных для Llama3\n",
    "llama_chain = ollama_llm | parser"
   ],
   "id": "ed514795293ed04e",
   "outputs": [],
   "execution_count": 11
  },
  {
   "metadata": {
    "ExecuteTime": {
     "end_time": "2024-05-30T13:10:43.490759Z",
     "start_time": "2024-05-30T13:10:43.486717Z"
    }
   },
   "cell_type": "code",
   "source": [
    "# Загрузка и обработка документа\n",
    "loader = TextLoader('data1.txt', encoding='utf-8')\n",
    "document = loader.load()\n",
    "# Разделение документа на часи\n",
    "spliter = RecursiveCharacterTextSplitter(chunk_size=200, chunk_overlap=50)\n",
    "chunks = spliter.split_documents(document)"
   ],
   "id": "caa0003f2ae700a2",
   "outputs": [],
   "execution_count": 12
  },
  {
   "metadata": {
    "ExecuteTime": {
     "end_time": "2024-05-30T13:10:43.493412Z",
     "start_time": "2024-05-30T13:10:43.491621Z"
    }
   },
   "cell_type": "code",
   "source": [
    "# Вызов модели Llama3 для ответа на вопрос\n",
    "# llama_chain.invoke('what is a bot')"
   ],
   "id": "e4e3bf5028c142fe",
   "outputs": [],
   "execution_count": 13
  },
  {
   "metadata": {
    "ExecuteTime": {
     "end_time": "2024-05-30T13:10:46.506537Z",
     "start_time": "2024-05-30T13:10:43.494645Z"
    }
   },
   "cell_type": "code",
   "source": [
    "# Создание векторного хранилища и поисковика на основе HuggingFaceEmbeddings\n",
    "embedding_model = HuggingFaceEmbeddings(model_name=\"sentence-transformers/all-MiniLM-L6-v2\")\n",
    "vector_storage = FAISS.from_documents(chunks, embedding_model)\n",
    "retriever = vector_storage.as_retriever()"
   ],
   "id": "4539e5fdbe4325f7",
   "outputs": [
    {
     "name": "stderr",
     "output_type": "stream",
     "text": [
      "/home/user/Desktop/OBJECT_DETECT_AND_LLM/Lama3-LangChain-RAG/venv/lib/python3.11/site-packages/huggingface_hub/file_download.py:1132: FutureWarning: `resume_download` is deprecated and will be removed in version 1.0.0. Downloads always resume when possible. If you want to force a new download, use `force_download=True`.\n",
      "  warnings.warn(\n"
     ]
    }
   ],
   "execution_count": 14
  },
  {
   "metadata": {
    "ExecuteTime": {
     "end_time": "2024-05-30T13:10:46.509319Z",
     "start_time": "2024-05-30T13:10:46.507499Z"
    }
   },
   "cell_type": "code",
   "source": [
    "# Пример запроса к поисковику\n",
    "# retriever.invoke('Инструкцию к какому прибору ты хранишь?')"
   ],
   "id": "f59e69393c4b554e",
   "outputs": [],
   "execution_count": 15
  },
  {
   "metadata": {
    "ExecuteTime": {
     "end_time": "2024-05-30T13:10:46.516530Z",
     "start_time": "2024-05-30T13:10:46.510001Z"
    }
   },
   "cell_type": "code",
   "source": [
    "# Создание шаблона запроса\n",
    "template = \"\"\"\n",
    "You are AI-powered chatbot designed to provide \n",
    "information and assistance for customers\n",
    "based on the context provided to you only. \n",
    "\n",
    "Context:{context}\n",
    "Question:{question}\n",
    "\"\"\""
   ],
   "id": "c4ccff3afb5184c2",
   "outputs": [],
   "execution_count": 16
  },
  {
   "metadata": {
    "ExecuteTime": {
     "end_time": "2024-05-30T13:10:46.519557Z",
     "start_time": "2024-05-30T13:10:46.517286Z"
    }
   },
   "cell_type": "code",
   "source": [
    "prompt = PromptTemplate.from_template(template=template)\n",
    "formatted_prompt = prompt.format(\n",
    "    context=' Here is a context to use',\n",
    "    question=' This is a question to answer'\n",
    ")"
   ],
   "id": "5cd3173db6769468",
   "outputs": [],
   "execution_count": 17
  },
  {
   "metadata": {
    "ExecuteTime": {
     "end_time": "2024-05-30T13:10:46.522873Z",
     "start_time": "2024-05-30T13:10:46.520434Z"
    }
   },
   "cell_type": "code",
   "source": [
    "# Создание цепочки запросов\n",
    "result = RunnableParallel(context=retriever, question=RunnablePassthrough())\n",
    "chain = result | prompt | ollama_llm | parser"
   ],
   "id": "c1b7049986f36438",
   "outputs": [],
   "execution_count": 18
  },
  {
   "metadata": {
    "ExecuteTime": {
     "end_time": "2024-05-30T13:11:44.473128Z",
     "start_time": "2024-05-30T13:10:46.524369Z"
    }
   },
   "cell_type": "code",
   "source": [
    "# Примеры запросов к цепочке\n",
    "# print(chain.invoke('общие сведения инструкции по эксплуатации'))\n",
    "print(chain.invoke('что содержит твой контекст? отвечай на русском языке'))"
   ],
   "id": "d600baae1554e6cd",
   "outputs": [
    {
     "name": "stdout",
     "output_type": "stream",
     "text": [
      "Мои сведения основаны на четырех документах, которые содержат информацию о безопасном использовании ручного миксера. В этих документах есть указания о необходимости соблюдения мер предосторожности при использовании прибора, а также информации о техническом уходе и хранении.\n",
      "\n",
      "В частности, в контексте содержится информация об опасностях, связанных с несоблюдением мер предосторожности при работе с миксером. К примеру, есть указание на то, что несоблюдение указаний может привести к травмам или опасности для жизни.\n",
      "\n",
      "Также в контексте содержится информация о хранении и уходе за миксером, а также об использовании его аксессуаров. В целом, моя задача - помочь пользователю безопасно использовать миксер и выполнять работы, связанные с ним.\n"
     ]
    }
   ],
   "execution_count": 19
  }
 ],
 "metadata": {
  "kernelspec": {
   "display_name": "Python 3",
   "language": "python",
   "name": "python3"
  },
  "language_info": {
   "codemirror_mode": {
    "name": "ipython",
    "version": 2
   },
   "file_extension": ".py",
   "mimetype": "text/x-python",
   "name": "python",
   "nbconvert_exporter": "python",
   "pygments_lexer": "ipython2",
   "version": "2.7.6"
  }
 },
 "nbformat": 4,
 "nbformat_minor": 5
}
